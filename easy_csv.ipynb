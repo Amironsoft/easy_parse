{
 "cells": [
  {
   "cell_type": "code",
   "execution_count": 6,
   "metadata": {},
   "outputs": [
    {
     "name": "stdout",
     "output_type": "stream",
     "text": [
      "['id', 'a', 'b', 'c', 'name']\n",
      "['jpt-12021', 143, 45.0, 92, 'Mark']\n",
      "['jpt-45221', 67, 45.0, 9, 'Max']\n",
      "['jpt-21321', 13, 45.0, 12, 'Art']\n",
      "['jpt-15621', 32, 45.0, 72, 'Smith']\n"
     ]
    }
   ],
   "source": [
    "data = [['jpt-12021', 143, 45.0, 92, 'Mark'], \n",
    "        ['jpt-45221', 67, 45.0, 9, 'Max'],\n",
    "        ['jpt-21321', 13, 45.0, 12, 'Art'],\n",
    "        ['jpt-15621', 32, 45.0, 72, 'Smith']]\n",
    "header = [\"id\", \"a\", \"b\", \"c\", \"name\"]\n",
    "data = [header]+data\n",
    "[print(l) for l in data]\n",
    "def save_csv(data, ofile, sep='\\t'):\n",
    "    open(ofile, 'w').writelines(sep.join(map(str, l))+'\\n' for l in data)\n",
    "save_csv(data, \"easy_csv1.csv\")"
   ]
  }
 ],
 "metadata": {
  "kernelspec": {
   "display_name": "Python 3",
   "language": "python",
   "name": "python3"
  },
  "language_info": {
   "codemirror_mode": {
    "name": "ipython",
    "version": 3
   },
   "file_extension": ".py",
   "mimetype": "text/x-python",
   "name": "python",
   "nbconvert_exporter": "python",
   "pygments_lexer": "ipython3",
   "version": "3.6.3"
  }
 },
 "nbformat": 4,
 "nbformat_minor": 2
}
