{
 "cells": [
  {
   "cell_type": "markdown",
   "metadata": {},
   "source": [
    "## easy parse\n",
    "Here is a html parsing example\n",
    "* search some `<table>` tag <table> by class attribute\n",
    "* find row `<tr>` with some text in cell `<td>`\n",
    "* print all row"
   ]
  },
  {
   "cell_type": "code",
   "execution_count": 2,
   "metadata": {
    "collapsed": true
   },
   "outputs": [],
   "source": [
    "import requests\n",
    "from lxml import html"
   ]
  },
  {
   "cell_type": "code",
   "execution_count": 9,
   "metadata": {
    "collapsed": true
   },
   "outputs": [],
   "source": [
    "target = \"https://www.investing.com/equities/ford-motor-co-financial-summary\"\n",
    "# fake header to avoid server antibot\n",
    "headers = {'User-Agent': 'Mozilla/5.0 (Macintosh; Intel Mac OS X 10_10_1) AppleWebKit/537.36 (KHTML, like Gecko) Chrome/39.0.2171.95 Safari/537.36'}\n",
    "response = requests.get(target, headers=headers) # get response\n",
    "tree = html.fromstring(response.content) # convert content text to lxml obj"
   ]
  },
  {
   "cell_type": "code",
   "execution_count": 10,
   "metadata": {
    "collapsed": true
   },
   "outputs": [],
   "source": [
    "target_tag = \"Net Income\"  # target tag"
   ]
  },
  {
   "cell_type": "code",
   "execution_count": 11,
   "metadata": {
    "collapsed": true
   },
   "outputs": [],
   "source": [
    "# table with attribute class=\"genTbl openTbl companyFinancialSummaryTbl\"\n",
    "#  tr row\n",
    "#    td cell with innerText = target_tag"
   ]
  },
  {
   "cell_type": "code",
   "execution_count": 12,
   "metadata": {
    "collapsed": true
   },
   "outputs": [],
   "source": [
    "target_element_list = tree.xpath(r\".//td[contains(text(),'Net Income')]\") # get right list\n",
    " # get first cell <td> and then get its parent <tr> all row\n",
    "target_tr = target_element_list[0].getparent()\n",
    "target_ans_list = [td.text for td in target_tr.findall(\"td\")] # get tag text for each cell <td>"
   ]
  },
  {
   "cell_type": "code",
   "execution_count": 13,
   "metadata": {},
   "outputs": [
    {
     "name": "stdout",
     "output_type": "stream",
     "text": [
      "['Net Income', '2409', '1564', '2042', '1587']\n"
     ]
    }
   ],
   "source": [
    "print(target_ans_list)"
   ]
  }
 ],
 "metadata": {
  "kernelspec": {
   "display_name": "Python 3",
   "language": "python",
   "name": "python3"
  },
  "language_info": {
   "codemirror_mode": {
    "name": "ipython",
    "version": 3
   },
   "file_extension": ".py",
   "mimetype": "text/x-python",
   "name": "python",
   "nbconvert_exporter": "python",
   "pygments_lexer": "ipython3",
   "version": "3.6.3"
  }
 },
 "nbformat": 4,
 "nbformat_minor": 2
}
