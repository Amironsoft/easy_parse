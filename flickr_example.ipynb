{
 "cells": [
  {
   "cell_type": "code",
   "execution_count": 1,
   "metadata": {
    "collapsed": true
   },
   "outputs": [],
   "source": [
    "# flickr example"
   ]
  },
  {
   "cell_type": "code",
   "execution_count": 43,
   "metadata": {
    "collapsed": true
   },
   "outputs": [],
   "source": [
    "import requests\n",
    "from lxml import html\n",
    "import os"
   ]
  },
  {
   "cell_type": "code",
   "execution_count": 3,
   "metadata": {
    "collapsed": true
   },
   "outputs": [],
   "source": [
    "def prepare_query(q):\n",
    "    replace_dict = {\" \": \"%20\"}\n",
    "    for k, v in replace_dict.items():\n",
    "        q = q.replace(k, v)\n",
    "    return q"
   ]
  },
  {
   "cell_type": "code",
   "execution_count": 53,
   "metadata": {},
   "outputs": [
    {
     "name": "stdout",
     "output_type": "stream",
     "text": [
      "https://www.flickr.com/search/?text=КПРФ&sort=date-posted-desc&view_all=1\n",
      "https://www.flickr.com/search/?text=ЛДПР&sort=date-posted-desc&view_all=1\n",
      "https://www.flickr.com/search/?text=Гражданская%20инициатива&sort=date-posted-desc&view_all=1\n",
      "https://www.flickr.com/search/?text=партия%20Яблоко&sort=date-posted-desc&view_all=1\n",
      "https://www.flickr.com/search/?text=Российский%20общенародный%20союз&sort=date-posted-desc&view_all=1\n",
      "https://www.flickr.com/search/?text=Партия%20роста&sort=date-posted-desc&view_all=1\n",
      "https://www.flickr.com/search/?text=Коммунисты%20России&sort=date-posted-desc&view_all=1\n"
     ]
    }
   ],
   "source": [
    "qlist = ['КПРФ',\n",
    "        'ЛДПР',\n",
    "        'Гражданская инициатива',\n",
    "        'партия Яблоко',\n",
    "        'Российский общенародный союз',\n",
    "        'Партия роста',\n",
    "        'Коммунисты России']\n",
    "\n",
    "target_pat = \"https://www.flickr.com/search/?text={}&sort=date-posted-desc&view_all=1\"\n",
    "target_list = []\n",
    "for q in qlist:\n",
    "    target = target_pat.format(prepare_query(q))\n",
    "    print(target)\n",
    "    target_list.append(target)"
   ]
  },
  {
   "cell_type": "code",
   "execution_count": 55,
   "metadata": {},
   "outputs": [
    {
     "data": {
      "text/plain": [
       "[<Element html at 0xdd6a813868>,\n",
       " <Element html at 0xdd6a345548>,\n",
       " <Element html at 0xdd6a345b88>,\n",
       " <Element html at 0xdd6a345f48>,\n",
       " <Element html at 0xdd6a813a48>,\n",
       " <Element html at 0xdd6a813188>,\n",
       " <Element html at 0xdd6a7a1f98>]"
      ]
     },
     "execution_count": 55,
     "metadata": {},
     "output_type": "execute_result"
    }
   ],
   "source": [
    "def get_tree(target):\n",
    "    headers = {'User-Agent': 'Mozilla/5.0 (Macintosh; Intel Mac OS X 10_10_1) AppleWebKit/537.36 (KHTML, like Gecko) Chrome/39.0.2171.95 Safari/537.36'}\n",
    "    response = requests.get(target, headers=headers) # get response\n",
    "    tree = html.fromstring(response.content) # convert content text to lxml obj\n",
    "    return tree\n",
    "tree_list = [get_tree(target) for target in target_list]\n",
    "tree_list"
   ]
  },
  {
   "cell_type": "code",
   "execution_count": 56,
   "metadata": {},
   "outputs": [
    {
     "name": "stdout",
     "output_type": "stream",
     "text": [
      "https://www.flickr.com/search/?text=КПРФ&sort=date-posted-desc&view_all=1 <Element html at 0xdd6a813868>\n"
     ]
    }
   ],
   "source": [
    "test_target = target_list[0]\n",
    "test_tree = tree_list[0]\n",
    "print(test_target, test_tree)"
   ]
  },
  {
   "cell_type": "code",
   "execution_count": 57,
   "metadata": {
    "collapsed": true
   },
   "outputs": [],
   "source": [
    "def get_link_from_style(style_att):\n",
    "    _, link = style_att[:-1].split(\"url(//\")\n",
    "    return \"https://\" + link"
   ]
  },
  {
   "cell_type": "code",
   "execution_count": 58,
   "metadata": {
    "collapsed": true
   },
   "outputs": [],
   "source": [
    "def savefile_stream(link, ofile):\n",
    "    link = link.replace(\"http://\", \"https://\")\n",
    "    response = requests.get(link, stream=True)\n",
    "    chunk_size = 20000\n",
    "    if response.status_code == 200:\n",
    "        with open(ofile, 'wb') as fd:\n",
    "            for chunk in response.iter_content(chunk_size):\n",
    "                fd.write(chunk)\n",
    "    else:\n",
    "        print(\"downloading failed\")"
   ]
  },
  {
   "cell_type": "code",
   "execution_count": 59,
   "metadata": {},
   "outputs": [
    {
     "name": "stdout",
     "output_type": "stream",
     "text": [
      "https://c1.staticflickr.com/5/4651/25771010467_b404b662fd.jpg\n",
      "https://c1.staticflickr.com/5/4785/38817611910_5fec150938_n.jpg\n",
      "https://c1.staticflickr.com/5/4709/39917311934_66c2828a57_n.jpg\n",
      "https://c1.staticflickr.com/5/4791/25703961297_ab9b2cbbd2.jpg\n",
      "https://c1.staticflickr.com/5/4626/39860162704_ceb60a0dda.jpg\n",
      "https://c1.staticflickr.com/5/4702/38728451650_e5b965b88d.jpg\n",
      "https://c1.staticflickr.com/5/4698/39805856804_34de1837f0.jpg\n",
      "https://c1.staticflickr.com/5/4715/40114710221_9e995b7c21_n.jpg\n",
      "https://c1.staticflickr.com/5/4709/28330501119_8fedf6726e_n.jpg\n",
      "https://c1.staticflickr.com/5/4612/28318644899_05cf46defc_n.jpg\n",
      "https://c1.staticflickr.com/5/4756/39381750364_2140537454_n.jpg\n",
      "https://c1.staticflickr.com/5/4708/26199754968_3dcfe1303d_n.jpg\n",
      "https://c1.staticflickr.com/5/4758/39161641905_c93f1d0004.jpg\n",
      "https://c1.staticflickr.com/5/4766/26182665058_3df831cde1_m.jpg\n",
      "https://c1.staticflickr.com/5/4708/28199940899_aee1eee399_n.jpg\n",
      "https://c1.staticflickr.com/5/4669/39145570424_6e751c4d07_n.jpg\n",
      "https://c1.staticflickr.com/5/4703/28039028719_e2e971845a_n.jpg\n",
      "https://c1.staticflickr.com/5/4711/39785393502_6e53e08d2d_m.jpg\n",
      "https://c1.staticflickr.com/5/4674/38830436625_1489373313_n.jpg\n",
      "https://c1.staticflickr.com/5/4650/25851423628_23d5b5c666.jpg\n",
      "https://c1.staticflickr.com/5/4687/39450560062_2812f7832e_n.jpg\n",
      "https://c1.staticflickr.com/5/4546/38690038362_5ee27f528c_m.jpg\n",
      "https://c1.staticflickr.com/5/4572/37626745365_bc832b194f_m.jpg\n",
      "https://c1.staticflickr.com/5/4559/37618348825_39641cc216_m.jpg\n",
      "https://c1.staticflickr.com/5/4460/38182730546_9d0067528d_n.jpg\n"
     ]
    }
   ],
   "source": [
    "def get_photo_tree(tree):\n",
    "    photo_div_view_class = \"view search-photos-everyone-view requiredToShowOnServer\"\n",
    "    photo_div_class = \"view photo-list-photo-view requiredToShowOnServer awake\"\n",
    "    photo_links = []\n",
    "    for photo_div in tree.find_class(photo_div_class):\n",
    "        cur_style = photo_div.attrib.get(\"style\")\n",
    "        photo_link = get_link_from_style(cur_style)\n",
    "        photo_links.append(photo_link)\n",
    "    return photo_links\n",
    "\n",
    "photo_links = get_photo_tree(test_tree)\n",
    "for photo_link in photo_links:\n",
    "    print(photo_link)\n",
    "    savefile_stream(photo_link, \"img/test/\"+photo_link.split(\"/\")[-1])"
   ]
  },
  {
   "cell_type": "code",
   "execution_count": 60,
   "metadata": {},
   "outputs": [
    {
     "name": "stdout",
     "output_type": "stream",
     "text": [
      "img/КПРФ/\n",
      "https://c1.staticflickr.com/5/4651/25771010467_b404b662fd.jpg\n",
      "https://c1.staticflickr.com/5/4785/38817611910_5fec150938_n.jpg\n",
      "https://c1.staticflickr.com/5/4709/39917311934_66c2828a57_n.jpg\n",
      "https://c1.staticflickr.com/5/4791/25703961297_ab9b2cbbd2.jpg\n",
      "https://c1.staticflickr.com/5/4626/39860162704_ceb60a0dda.jpg\n",
      "https://c1.staticflickr.com/5/4702/38728451650_e5b965b88d.jpg\n",
      "https://c1.staticflickr.com/5/4698/39805856804_34de1837f0.jpg\n",
      "https://c1.staticflickr.com/5/4715/40114710221_9e995b7c21_n.jpg\n",
      "https://c1.staticflickr.com/5/4709/28330501119_8fedf6726e_n.jpg\n",
      "https://c1.staticflickr.com/5/4612/28318644899_05cf46defc_n.jpg\n",
      "https://c1.staticflickr.com/5/4756/39381750364_2140537454_n.jpg\n",
      "https://c1.staticflickr.com/5/4708/26199754968_3dcfe1303d_n.jpg\n",
      "https://c1.staticflickr.com/5/4758/39161641905_c93f1d0004.jpg\n",
      "https://c1.staticflickr.com/5/4766/26182665058_3df831cde1_m.jpg\n",
      "https://c1.staticflickr.com/5/4708/28199940899_aee1eee399_n.jpg\n",
      "https://c1.staticflickr.com/5/4669/39145570424_6e751c4d07_n.jpg\n",
      "https://c1.staticflickr.com/5/4703/28039028719_e2e971845a_n.jpg\n",
      "https://c1.staticflickr.com/5/4711/39785393502_6e53e08d2d_m.jpg\n",
      "https://c1.staticflickr.com/5/4674/38830436625_1489373313_n.jpg\n",
      "https://c1.staticflickr.com/5/4650/25851423628_23d5b5c666.jpg\n",
      "https://c1.staticflickr.com/5/4687/39450560062_2812f7832e_n.jpg\n",
      "https://c1.staticflickr.com/5/4546/38690038362_5ee27f528c_m.jpg\n",
      "https://c1.staticflickr.com/5/4572/37626745365_bc832b194f_m.jpg\n",
      "https://c1.staticflickr.com/5/4559/37618348825_39641cc216_m.jpg\n",
      "https://c1.staticflickr.com/5/4460/38182730546_9d0067528d_n.jpg\n",
      "img/ЛДПР/\n",
      "https://c1.staticflickr.com/5/4776/39896769314_79238c2cbe.jpg\n",
      "https://c1.staticflickr.com/5/4766/40590883891_15323c4920_n.jpg\n",
      "https://c1.staticflickr.com/5/4796/40524986942_49ac43f7a2.jpg\n",
      "https://c1.staticflickr.com/5/4716/38743473410_1e6113e8fd.jpg\n",
      "https://c1.staticflickr.com/5/4606/38726039410_117dfc884f.jpg\n",
      "https://c1.staticflickr.com/5/4628/40494408311_cc0a1b1e42_n.jpg\n",
      "https://c1.staticflickr.com/5/4724/40494407521_72d1cdc7c4_n.jpg\n",
      "https://c1.staticflickr.com/5/4657/40494406261_2d956557ab_n.jpg\n",
      "https://c1.staticflickr.com/5/4627/40494404971_9aef549b44_n.jpg\n",
      "https://c1.staticflickr.com/5/4603/39598668585_71ba657a6a_n.jpg\n",
      "https://c1.staticflickr.com/5/4605/40494404541_21efe4e8b6_n.jpg\n",
      "https://c1.staticflickr.com/5/4626/39598668345_de73d4fa10_n.jpg\n",
      "https://c1.staticflickr.com/5/4675/26623389988_4fac6a12cb_n.jpg\n",
      "https://c1.staticflickr.com/5/4703/40494404071_46e5622e6f_n.jpg\n",
      "https://c1.staticflickr.com/5/4752/40494403421_ca78c7c9e9_n.jpg\n",
      "https://c1.staticflickr.com/5/4695/40494402541_c2ba93e293_n.jpg\n",
      "https://c1.staticflickr.com/5/4755/38684312000_256a917cd1_n.jpg\n",
      "https://c1.staticflickr.com/5/4612/40411169502_898167498f_n.jpg\n",
      "https://c1.staticflickr.com/5/4750/38644327190_c410b225c7_n.jpg\n",
      "https://c1.staticflickr.com/5/4623/40411169012_cee98e7dba_n.jpg\n",
      "https://c1.staticflickr.com/5/4625/40411168482_80888ee176.jpg\n",
      "https://c1.staticflickr.com/5/4714/38644325990_558abebbc9.jpg\n",
      "https://c1.staticflickr.com/5/4656/40411166312_856b7a4491.jpg\n",
      "img/Гражданская инициатива/\n",
      "https://c1.staticflickr.com/8/7622/17000072218_99acf3f432.jpg\n",
      "https://c1.staticflickr.com/8/7719/16980315427_5b74198170.jpg\n",
      "https://c1.staticflickr.com/9/8735/17161810756_505c7e04ff.jpg\n",
      "https://c1.staticflickr.com/9/8745/17187718095_24e6ca5065.jpg\n",
      "https://c1.staticflickr.com/9/8786/16565300964_1284cb8940.jpg\n",
      "https://c1.staticflickr.com/6/5458/16980313077_99286833e6.jpg\n",
      "https://c1.staticflickr.com/6/5464/16567548813_cb5cf11172.jpg\n",
      "https://c1.staticflickr.com/6/5339/17187716025_4f0181e39f.jpg\n",
      "https://c1.staticflickr.com/9/8701/16980310747_205bd00370.jpg\n",
      "https://c1.staticflickr.com/9/8702/16567546153_b7d6e7429b.jpg\n",
      "https://c1.staticflickr.com/8/7601/16565296704_6d1e02e57e.jpg\n",
      "https://c1.staticflickr.com/9/8745/16565295924_9c10b14a99.jpg\n",
      "https://c1.staticflickr.com/8/7608/17186072742_11cc005a1b.jpg\n",
      "https://c1.staticflickr.com/8/7686/17000199240_4e4e3e192a.jpg\n",
      "https://c1.staticflickr.com/9/8787/17187710795_f80302c3d5.jpg\n",
      "https://c1.staticflickr.com/9/8732/17187137581_05dd2b6677.jpg\n",
      "https://c1.staticflickr.com/9/8745/16999976708_e808acee85.jpg\n",
      "https://c1.staticflickr.com/8/7610/17187708815_280cb57bfc.jpg\n",
      "https://c1.staticflickr.com/8/7675/17186069422_2b1a1458de.jpg\n",
      "https://c1.staticflickr.com/8/7640/17187707935_6c87d86daa.jpg\n",
      "https://c1.staticflickr.com/9/8701/17187707535_128e2e3266.jpg\n",
      "https://c1.staticflickr.com/8/7625/17187706555_a6ee6e2ece.jpg\n",
      "https://c1.staticflickr.com/6/5615/14962365174_cd243f8992_n.jpg\n",
      "https://c1.staticflickr.com/8/7220/7369830236_8e11c02535_n.jpg\n",
      "https://c1.staticflickr.com/8/7078/7325439562_6670bbedab_m.jpg\n",
      "img/партия Яблоко/\n",
      "https://c1.staticflickr.com/5/4695/25790999937_df3b2fe7e9_m.jpg\n",
      "https://c1.staticflickr.com/5/4651/40129626622_65a4f3181e_n.jpg\n",
      "https://c1.staticflickr.com/5/4629/25239351517_82ea49d0ca_n.jpg\n",
      "https://c1.staticflickr.com/5/4664/25871002118_9a1367ac8f_m.jpg\n",
      "https://c1.staticflickr.com/5/4405/37083382592_52839f6a9f_m.jpg\n",
      "https://c1.staticflickr.com/5/4414/36491654750_46ebb5dba4_n.jpg\n",
      "https://c1.staticflickr.com/5/4347/35513635004_d6983e85e0_n.jpg\n",
      "https://c1.staticflickr.com/5/4311/36212401971_9ea166f2cb_n.jpg\n",
      "https://c1.staticflickr.com/5/4188/34436286906_907329024e_m.jpg\n",
      "https://c1.staticflickr.com/4/3897/33484168701_896d75c7d0_m.jpg\n",
      "https://c1.staticflickr.com/1/514/32930906971_1a78b67368_n.jpg\n",
      "https://c1.staticflickr.com/4/3851/32944575486_92364d133f_n.jpg\n",
      "https://c1.staticflickr.com/3/2818/32586043700_ac5dc8f6b6.jpg\n",
      "https://c1.staticflickr.com/6/5687/30014399664_d59c3450de_m.jpg\n",
      "https://c1.staticflickr.com/9/8570/29705508291_b6f7b452fe_n.jpg\n",
      "https://c1.staticflickr.com/9/8568/29770375205_9b4c127913_m.jpg\n",
      "https://c1.staticflickr.com/6/5661/23860103626_8ffd5431df_m.jpg\n",
      "https://c1.staticflickr.com/6/5650/23267241856_0936950b5d_n.jpg\n",
      "https://c1.staticflickr.com/1/739/23185064732_5d71a47381_n.jpg\n",
      "https://c1.staticflickr.com/1/617/22666114283_da5e76ceb5.jpg\n",
      "https://c1.staticflickr.com/1/623/23184947432_4edabb46cb_n.jpg\n",
      "https://c1.staticflickr.com/6/5627/23267121266_7329cc6ac0_n.jpg\n",
      "https://c1.staticflickr.com/1/757/22997423320_80bc524a70_n.jpg\n",
      "https://c1.staticflickr.com/1/775/23210630011_1a0d2a8050_n.jpg\n",
      "img/Российский общенародный союз/\n",
      "img/Партия роста/\n",
      "img/Коммунисты России/\n",
      "https://c1.staticflickr.com/4/3817/9590193398_9e5f14981e_t.jpg\n",
      "https://c1.staticflickr.com/4/3701/9586151128_e72845e87a_t.jpg\n",
      "https://c1.staticflickr.com/9/8404/8692805929_005f9ba44b_t.jpg\n"
     ]
    }
   ],
   "source": [
    "odir = \"img/\"\n",
    "for q, tree in zip(qlist, tree_list):\n",
    "    qdir = odir+q+\"/\"\n",
    "    if not os.path.exists(qdir):\n",
    "        os.mkdir(qdir)\n",
    "    print(qdir)\n",
    "    photo_links = get_photo_tree(tree)\n",
    "    for photo_link in photo_links:\n",
    "        print(photo_link)\n",
    "        savefile_stream(photo_link, qdir + photo_link.split(\"/\")[-1])"
   ]
  },
  {
   "cell_type": "code",
   "execution_count": 62,
   "metadata": {
    "collapsed": true
   },
   "outputs": [],
   "source": [
    "# to be continue"
   ]
  }
 ],
 "metadata": {
  "kernelspec": {
   "display_name": "Python 3",
   "language": "python",
   "name": "python3"
  },
  "language_info": {
   "codemirror_mode": {
    "name": "ipython",
    "version": 3
   },
   "file_extension": ".py",
   "mimetype": "text/x-python",
   "name": "python",
   "nbconvert_exporter": "python",
   "pygments_lexer": "ipython3",
   "version": "3.6.3"
  }
 },
 "nbformat": 4,
 "nbformat_minor": 2
}
